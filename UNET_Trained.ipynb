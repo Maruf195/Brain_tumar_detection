{
  "nbformat": 4,
  "nbformat_minor": 0,
  "metadata": {
    "colab": {
      "provenance": [],
      "gpuType": "T4"
    },
    "kernelspec": {
      "name": "python3",
      "display_name": "Python 3"
    },
    "language_info": {
      "name": "python"
    },
    "accelerator": "GPU"
  },
  "cells": [
    {
      "cell_type": "code",
      "execution_count": 1,
      "metadata": {
        "colab": {
          "base_uri": "https://localhost:8080/"
        },
        "id": "4U4hH_1hVYbM",
        "outputId": "52735c3f-9f37-4634-99fe-bb38fb320949"
      },
      "outputs": [
        {
          "output_type": "stream",
          "name": "stdout",
          "text": [
            "Requirement already satisfied: pandas in /usr/local/lib/python3.10/dist-packages (2.2.2)\n",
            "Requirement already satisfied: numpy in /usr/local/lib/python3.10/dist-packages (1.26.4)\n",
            "Requirement already satisfied: matplotlib in /usr/local/lib/python3.10/dist-packages (3.8.0)\n",
            "Requirement already satisfied: opencv-python in /usr/local/lib/python3.10/dist-packages (4.10.0.84)\n",
            "Requirement already satisfied: tqdm in /usr/local/lib/python3.10/dist-packages (4.66.6)\n",
            "Requirement already satisfied: scikit-image in /usr/local/lib/python3.10/dist-packages (0.24.0)\n",
            "Requirement already satisfied: scikit-learn in /usr/local/lib/python3.10/dist-packages (1.5.2)\n",
            "Requirement already satisfied: ipython in /usr/local/lib/python3.10/dist-packages (7.34.0)\n",
            "Requirement already satisfied: tensorflow in /usr/local/lib/python3.10/dist-packages (2.17.1)\n",
            "Requirement already satisfied: python-dateutil>=2.8.2 in /usr/local/lib/python3.10/dist-packages (from pandas) (2.8.2)\n",
            "Requirement already satisfied: pytz>=2020.1 in /usr/local/lib/python3.10/dist-packages (from pandas) (2024.2)\n",
            "Requirement already satisfied: tzdata>=2022.7 in /usr/local/lib/python3.10/dist-packages (from pandas) (2024.2)\n",
            "Requirement already satisfied: contourpy>=1.0.1 in /usr/local/lib/python3.10/dist-packages (from matplotlib) (1.3.1)\n",
            "Requirement already satisfied: cycler>=0.10 in /usr/local/lib/python3.10/dist-packages (from matplotlib) (0.12.1)\n",
            "Requirement already satisfied: fonttools>=4.22.0 in /usr/local/lib/python3.10/dist-packages (from matplotlib) (4.55.0)\n",
            "Requirement already satisfied: kiwisolver>=1.0.1 in /usr/local/lib/python3.10/dist-packages (from matplotlib) (1.4.7)\n",
            "Requirement already satisfied: packaging>=20.0 in /usr/local/lib/python3.10/dist-packages (from matplotlib) (24.2)\n",
            "Requirement already satisfied: pillow>=6.2.0 in /usr/local/lib/python3.10/dist-packages (from matplotlib) (11.0.0)\n",
            "Requirement already satisfied: pyparsing>=2.3.1 in /usr/local/lib/python3.10/dist-packages (from matplotlib) (3.2.0)\n",
            "Requirement already satisfied: scipy>=1.9 in /usr/local/lib/python3.10/dist-packages (from scikit-image) (1.13.1)\n",
            "Requirement already satisfied: networkx>=2.8 in /usr/local/lib/python3.10/dist-packages (from scikit-image) (3.4.2)\n",
            "Requirement already satisfied: imageio>=2.33 in /usr/local/lib/python3.10/dist-packages (from scikit-image) (2.36.0)\n",
            "Requirement already satisfied: tifffile>=2022.8.12 in /usr/local/lib/python3.10/dist-packages (from scikit-image) (2024.9.20)\n",
            "Requirement already satisfied: lazy-loader>=0.4 in /usr/local/lib/python3.10/dist-packages (from scikit-image) (0.4)\n",
            "Requirement already satisfied: joblib>=1.2.0 in /usr/local/lib/python3.10/dist-packages (from scikit-learn) (1.4.2)\n",
            "Requirement already satisfied: threadpoolctl>=3.1.0 in /usr/local/lib/python3.10/dist-packages (from scikit-learn) (3.5.0)\n",
            "Requirement already satisfied: setuptools>=18.5 in /usr/local/lib/python3.10/dist-packages (from ipython) (75.1.0)\n",
            "Collecting jedi>=0.16 (from ipython)\n",
            "  Downloading jedi-0.19.2-py2.py3-none-any.whl.metadata (22 kB)\n",
            "Requirement already satisfied: decorator in /usr/local/lib/python3.10/dist-packages (from ipython) (4.4.2)\n",
            "Requirement already satisfied: pickleshare in /usr/local/lib/python3.10/dist-packages (from ipython) (0.7.5)\n",
            "Requirement already satisfied: traitlets>=4.2 in /usr/local/lib/python3.10/dist-packages (from ipython) (5.7.1)\n",
            "Requirement already satisfied: prompt-toolkit!=3.0.0,!=3.0.1,<3.1.0,>=2.0.0 in /usr/local/lib/python3.10/dist-packages (from ipython) (3.0.48)\n",
            "Requirement already satisfied: pygments in /usr/local/lib/python3.10/dist-packages (from ipython) (2.18.0)\n",
            "Requirement already satisfied: backcall in /usr/local/lib/python3.10/dist-packages (from ipython) (0.2.0)\n",
            "Requirement already satisfied: matplotlib-inline in /usr/local/lib/python3.10/dist-packages (from ipython) (0.1.7)\n",
            "Requirement already satisfied: pexpect>4.3 in /usr/local/lib/python3.10/dist-packages (from ipython) (4.9.0)\n",
            "Requirement already satisfied: absl-py>=1.0.0 in /usr/local/lib/python3.10/dist-packages (from tensorflow) (1.4.0)\n",
            "Requirement already satisfied: astunparse>=1.6.0 in /usr/local/lib/python3.10/dist-packages (from tensorflow) (1.6.3)\n",
            "Requirement already satisfied: flatbuffers>=24.3.25 in /usr/local/lib/python3.10/dist-packages (from tensorflow) (24.3.25)\n",
            "Requirement already satisfied: gast!=0.5.0,!=0.5.1,!=0.5.2,>=0.2.1 in /usr/local/lib/python3.10/dist-packages (from tensorflow) (0.6.0)\n",
            "Requirement already satisfied: google-pasta>=0.1.1 in /usr/local/lib/python3.10/dist-packages (from tensorflow) (0.2.0)\n",
            "Requirement already satisfied: h5py>=3.10.0 in /usr/local/lib/python3.10/dist-packages (from tensorflow) (3.12.1)\n",
            "Requirement already satisfied: libclang>=13.0.0 in /usr/local/lib/python3.10/dist-packages (from tensorflow) (18.1.1)\n",
            "Requirement already satisfied: ml-dtypes<0.5.0,>=0.3.1 in /usr/local/lib/python3.10/dist-packages (from tensorflow) (0.4.1)\n",
            "Requirement already satisfied: opt-einsum>=2.3.2 in /usr/local/lib/python3.10/dist-packages (from tensorflow) (3.4.0)\n",
            "Requirement already satisfied: protobuf!=4.21.0,!=4.21.1,!=4.21.2,!=4.21.3,!=4.21.4,!=4.21.5,<5.0.0dev,>=3.20.3 in /usr/local/lib/python3.10/dist-packages (from tensorflow) (4.25.5)\n",
            "Requirement already satisfied: requests<3,>=2.21.0 in /usr/local/lib/python3.10/dist-packages (from tensorflow) (2.32.3)\n",
            "Requirement already satisfied: six>=1.12.0 in /usr/local/lib/python3.10/dist-packages (from tensorflow) (1.16.0)\n",
            "Requirement already satisfied: termcolor>=1.1.0 in /usr/local/lib/python3.10/dist-packages (from tensorflow) (2.5.0)\n",
            "Requirement already satisfied: typing-extensions>=3.6.6 in /usr/local/lib/python3.10/dist-packages (from tensorflow) (4.12.2)\n",
            "Requirement already satisfied: wrapt>=1.11.0 in /usr/local/lib/python3.10/dist-packages (from tensorflow) (1.16.0)\n",
            "Requirement already satisfied: grpcio<2.0,>=1.24.3 in /usr/local/lib/python3.10/dist-packages (from tensorflow) (1.68.0)\n",
            "Requirement already satisfied: tensorboard<2.18,>=2.17 in /usr/local/lib/python3.10/dist-packages (from tensorflow) (2.17.1)\n",
            "Requirement already satisfied: keras>=3.2.0 in /usr/local/lib/python3.10/dist-packages (from tensorflow) (3.5.0)\n",
            "Requirement already satisfied: tensorflow-io-gcs-filesystem>=0.23.1 in /usr/local/lib/python3.10/dist-packages (from tensorflow) (0.37.1)\n",
            "Requirement already satisfied: wheel<1.0,>=0.23.0 in /usr/local/lib/python3.10/dist-packages (from astunparse>=1.6.0->tensorflow) (0.45.0)\n",
            "Requirement already satisfied: parso<0.9.0,>=0.8.4 in /usr/local/lib/python3.10/dist-packages (from jedi>=0.16->ipython) (0.8.4)\n",
            "Requirement already satisfied: rich in /usr/local/lib/python3.10/dist-packages (from keras>=3.2.0->tensorflow) (13.9.4)\n",
            "Requirement already satisfied: namex in /usr/local/lib/python3.10/dist-packages (from keras>=3.2.0->tensorflow) (0.0.8)\n",
            "Requirement already satisfied: optree in /usr/local/lib/python3.10/dist-packages (from keras>=3.2.0->tensorflow) (0.13.1)\n",
            "Requirement already satisfied: ptyprocess>=0.5 in /usr/local/lib/python3.10/dist-packages (from pexpect>4.3->ipython) (0.7.0)\n",
            "Requirement already satisfied: wcwidth in /usr/local/lib/python3.10/dist-packages (from prompt-toolkit!=3.0.0,!=3.0.1,<3.1.0,>=2.0.0->ipython) (0.2.13)\n",
            "Requirement already satisfied: charset-normalizer<4,>=2 in /usr/local/lib/python3.10/dist-packages (from requests<3,>=2.21.0->tensorflow) (3.4.0)\n",
            "Requirement already satisfied: idna<4,>=2.5 in /usr/local/lib/python3.10/dist-packages (from requests<3,>=2.21.0->tensorflow) (3.10)\n",
            "Requirement already satisfied: urllib3<3,>=1.21.1 in /usr/local/lib/python3.10/dist-packages (from requests<3,>=2.21.0->tensorflow) (2.2.3)\n",
            "Requirement already satisfied: certifi>=2017.4.17 in /usr/local/lib/python3.10/dist-packages (from requests<3,>=2.21.0->tensorflow) (2024.8.30)\n",
            "Requirement already satisfied: markdown>=2.6.8 in /usr/local/lib/python3.10/dist-packages (from tensorboard<2.18,>=2.17->tensorflow) (3.7)\n",
            "Requirement already satisfied: tensorboard-data-server<0.8.0,>=0.7.0 in /usr/local/lib/python3.10/dist-packages (from tensorboard<2.18,>=2.17->tensorflow) (0.7.2)\n",
            "Requirement already satisfied: werkzeug>=1.0.1 in /usr/local/lib/python3.10/dist-packages (from tensorboard<2.18,>=2.17->tensorflow) (3.1.3)\n",
            "Requirement already satisfied: MarkupSafe>=2.1.1 in /usr/local/lib/python3.10/dist-packages (from werkzeug>=1.0.1->tensorboard<2.18,>=2.17->tensorflow) (3.0.2)\n",
            "Requirement already satisfied: markdown-it-py>=2.2.0 in /usr/local/lib/python3.10/dist-packages (from rich->keras>=3.2.0->tensorflow) (3.0.0)\n",
            "Requirement already satisfied: mdurl~=0.1 in /usr/local/lib/python3.10/dist-packages (from markdown-it-py>=2.2.0->rich->keras>=3.2.0->tensorflow) (0.1.2)\n",
            "Downloading jedi-0.19.2-py2.py3-none-any.whl (1.6 MB)\n",
            "\u001b[2K   \u001b[90m━━━━━━━━━━━━━━━━━━━━━━━━━━━━━━━━━━━━━━━━\u001b[0m \u001b[32m1.6/1.6 MB\u001b[0m \u001b[31m60.9 MB/s\u001b[0m eta \u001b[36m0:00:00\u001b[0m\n",
            "\u001b[?25hInstalling collected packages: jedi\n",
            "Successfully installed jedi-0.19.2\n"
          ]
        }
      ],
      "source": [
        "!pip install pandas numpy matplotlib opencv-python tqdm scikit-image scikit-learn ipython tensorflow"
      ]
    },
    {
      "cell_type": "code",
      "source": [
        "from google.colab import drive\n",
        "drive.mount('/content/drive')\n"
      ],
      "metadata": {
        "colab": {
          "base_uri": "https://localhost:8080/"
        },
        "id": "Nq9TN-QUCw9Y",
        "outputId": "d7fd229a-1ffb-4b91-b5b1-082a382aa402"
      },
      "execution_count": 2,
      "outputs": [
        {
          "output_type": "stream",
          "name": "stdout",
          "text": [
            "Mounted at /content/drive\n"
          ]
        }
      ]
    },
    {
      "cell_type": "code",
      "source": [
        "from google.colab import drive\n",
        "drive.mount('/content/drive')\n"
      ],
      "metadata": {
        "id": "w6KUCtTmXJs1",
        "colab": {
          "base_uri": "https://localhost:8080/"
        },
        "outputId": "f9d9af73-28dc-467d-efb9-343fd4a11ec0"
      },
      "execution_count": 2,
      "outputs": [
        {
          "output_type": "stream",
          "name": "stdout",
          "text": [
            "Mounted at /content/drive\n"
          ]
        }
      ]
    },
    {
      "cell_type": "code",
      "source": [
        "import random\n",
        "import pandas as pd\n",
        "import numpy as np\n",
        "import matplotlib.pyplot as plt\n",
        "plt.style.use(\"ggplot\")\n",
        "%matplotlib inline\n",
        "\n",
        "import cv2\n",
        "from tqdm import tqdm_notebook, tnrange\n",
        "from glob import glob\n",
        "from itertools import chain\n",
        "from skimage.io import imread, imshow, concatenate_images\n",
        "from skimage.transform import resize\n",
        "from skimage.morphology import label\n",
        "from sklearn.model_selection import train_test_split\n",
        "from IPython.display import Image, display\n",
        "\n",
        "import tensorflow as tf\n",
        "from skimage.color import rgb2gray\n",
        "from tensorflow.keras import Input\n",
        "from tensorflow.keras.models import Model, load_model, save_model\n",
        "from tensorflow.keras.layers import Input, Activation, BatchNormalization, Dropout, Lambda, Conv2D, Conv2DTranspose, MaxPooling2D, concatenate\n",
        "from tensorflow.keras.optimizers.legacy import Adam\n",
        "from tensorflow.keras.callbacks import EarlyStopping, ModelCheckpoint\n",
        "\n",
        "from tensorflow.keras import backend as K\n",
        "from tensorflow.keras.preprocessing.image import ImageDataGenerator\n",
        "from tensorflow.keras.callbacks import EarlyStopping, ModelCheckpoint\n"
      ],
      "metadata": {
        "id": "89bFWkHEVnmB"
      },
      "execution_count": 3,
      "outputs": []
    },
    {
      "cell_type": "code",
      "source": [
        "import tensorflow as tf\n",
        "!nvidia-smi\n",
        "\n",
        "\n",
        "print(tf.__version__)\n",
        "\n",
        "print(\"Num GPUs Available: \", len(tf.config.list_physical_devices('GPU')))\n",
        "gpus = tf.config.experimental.list_physical_devices('GPU')\n",
        "if gpus:\n",
        "    try:\n",
        "        for gpu in gpus:\n",
        "            tf.config.experimental.set_memory_growth(gpu, True)\n",
        "        print(\"GPU memory growth enabled.\")\n",
        "    except RuntimeError as e:\n",
        "        print(e)\n",
        "\n",
        "\n",
        "\n"
      ],
      "metadata": {
        "colab": {
          "base_uri": "https://localhost:8080/"
        },
        "id": "hKYnuxkzVsZg",
        "outputId": "6b7c8b2b-f804-4901-ed5a-3f8cfd266c79"
      },
      "execution_count": 4,
      "outputs": [
        {
          "output_type": "stream",
          "name": "stdout",
          "text": [
            "Fri Nov 29 09:34:01 2024       \n",
            "+---------------------------------------------------------------------------------------+\n",
            "| NVIDIA-SMI 535.104.05             Driver Version: 535.104.05   CUDA Version: 12.2     |\n",
            "|-----------------------------------------+----------------------+----------------------+\n",
            "| GPU  Name                 Persistence-M | Bus-Id        Disp.A | Volatile Uncorr. ECC |\n",
            "| Fan  Temp   Perf          Pwr:Usage/Cap |         Memory-Usage | GPU-Util  Compute M. |\n",
            "|                                         |                      |               MIG M. |\n",
            "|=========================================+======================+======================|\n",
            "|   0  Tesla T4                       Off | 00000000:00:04.0 Off |                    0 |\n",
            "| N/A   47C    P8              10W /  70W |      0MiB / 15360MiB |      0%      Default |\n",
            "|                                         |                      |                  N/A |\n",
            "+-----------------------------------------+----------------------+----------------------+\n",
            "                                                                                         \n",
            "+---------------------------------------------------------------------------------------+\n",
            "| Processes:                                                                            |\n",
            "|  GPU   GI   CI        PID   Type   Process name                            GPU Memory |\n",
            "|        ID   ID                                                             Usage      |\n",
            "|=======================================================================================|\n",
            "|  No running processes found                                                           |\n",
            "+---------------------------------------------------------------------------------------+\n",
            "2.17.1\n",
            "Num GPUs Available:  1\n",
            "GPU memory growth enabled.\n"
          ]
        }
      ]
    },
    {
      "cell_type": "code",
      "source": [
        "im_width = 256\n",
        "im_height = 256\n",
        "\n",
        "image_filename_train = []\n",
        "\n",
        "mask_files = glob(pathname=r'/content/drive/MyDrive/Brain MRI Segmentation/lgg-mri-segmentation/kaggle_3m/*/*_mask*')\n",
        "\n",
        "for i in mask_files:\n",
        "    image_filename_train.append(i.replace('_mask',''))\n",
        "print(image_filename_train[:10])\n",
        "len(image_filename_train)"
      ],
      "metadata": {
        "id": "kb2KCJkJV3KN",
        "colab": {
          "base_uri": "https://localhost:8080/"
        },
        "outputId": "eff39926-5c72-4243-fc59-46db4cc4bc0a"
      },
      "execution_count": 5,
      "outputs": [
        {
          "output_type": "stream",
          "name": "stdout",
          "text": [
            "['/content/drive/MyDrive/Brain MRI Segmentation/lgg-mri-segmentation/kaggle_3m/TCGA_HT_8563_19981209/TCGA_HT_8563_19981209_13.tif', '/content/drive/MyDrive/Brain MRI Segmentation/lgg-mri-segmentation/kaggle_3m/TCGA_HT_8563_19981209/TCGA_HT_8563_19981209_10.tif', '/content/drive/MyDrive/Brain MRI Segmentation/lgg-mri-segmentation/kaggle_3m/TCGA_HT_8563_19981209/TCGA_HT_8563_19981209_7.tif', '/content/drive/MyDrive/Brain MRI Segmentation/lgg-mri-segmentation/kaggle_3m/TCGA_HT_8563_19981209/TCGA_HT_8563_19981209_15.tif', '/content/drive/MyDrive/Brain MRI Segmentation/lgg-mri-segmentation/kaggle_3m/TCGA_HT_8563_19981209/TCGA_HT_8563_19981209_16.tif', '/content/drive/MyDrive/Brain MRI Segmentation/lgg-mri-segmentation/kaggle_3m/TCGA_HT_8563_19981209/TCGA_HT_8563_19981209_18.tif', '/content/drive/MyDrive/Brain MRI Segmentation/lgg-mri-segmentation/kaggle_3m/TCGA_HT_8563_19981209/TCGA_HT_8563_19981209_4.tif', '/content/drive/MyDrive/Brain MRI Segmentation/lgg-mri-segmentation/kaggle_3m/TCGA_HT_8563_19981209/TCGA_HT_8563_19981209_3.tif', '/content/drive/MyDrive/Brain MRI Segmentation/lgg-mri-segmentation/kaggle_3m/TCGA_HT_8563_19981209/TCGA_HT_8563_19981209_11.tif', '/content/drive/MyDrive/Brain MRI Segmentation/lgg-mri-segmentation/kaggle_3m/TCGA_HT_8563_19981209/TCGA_HT_8563_19981209_20.tif']\n"
          ]
        },
        {
          "output_type": "execute_result",
          "data": {
            "text/plain": [
              "3929"
            ]
          },
          "metadata": {},
          "execution_count": 5
        }
      ]
    },
    {
      "cell_type": "code",
      "source": [
        "def plot_from_img_path(rows, columns, list_img_path, list_mask_path):\n",
        "    fig = plt.figure(figsize  = (12,12))\n",
        "    for i in range(1, rows * columns + 1):\n",
        "        fig.add_subplot(rows, columns, i)\n",
        "        img_path = list_img_path[i]\n",
        "        mask_path = list_mask_path[i]\n",
        "        image = cv2.imread(img_path)\n",
        "        image = cv2.cvtColor(image, cv2.COLOR_BGR2RGB)\n",
        "        mask = cv2.imread(mask_path)\n",
        "        plt.imshow(image)\n",
        "        plt.imshow(mask, alpha=0.4)\n",
        "    plt.show()"
      ],
      "metadata": {
        "id": "RpQFEciHV61t"
      },
      "execution_count": 6,
      "outputs": []
    },
    {
      "cell_type": "code",
      "source": [
        "df = pd.DataFrame(data = {'image_filename_train': image_filename_train, 'mask': mask_files})\n",
        "df_train, df_test = train_test_split(df, test_size = 0.05)\n",
        "df_train, df_val = train_test_split(df_train, test_size = 0.05)"
      ],
      "metadata": {
        "id": "CPeZ4TnKV-j3"
      },
      "execution_count": 7,
      "outputs": []
    },
    {
      "cell_type": "code",
      "source": [
        "print(df_train.shape)\n",
        "print(df_val.shape)\n",
        "print(df_test.shape)"
      ],
      "metadata": {
        "id": "k0RYxowCWCA5",
        "colab": {
          "base_uri": "https://localhost:8080/"
        },
        "outputId": "cd431543-25de-4c3c-d7cd-effbc7030695"
      },
      "execution_count": 8,
      "outputs": [
        {
          "output_type": "stream",
          "name": "stdout",
          "text": [
            "(3545, 2)\n",
            "(187, 2)\n",
            "(197, 2)\n"
          ]
        }
      ]
    },
    {
      "cell_type": "code",
      "source": [
        "\n",
        "import numpy as np\n",
        "from tensorflow.keras.preprocessing.image import ImageDataGenerator\n",
        "from tensorflow.keras import backend as K\n",
        "\n",
        "# Normalize images and binarize masks\n",
        "def normalize_and_diagnose(img, mask):\n",
        "    img = img / 255.0\n",
        "    mask = (mask > 0.5).astype(np.float32)\n",
        "    return img, mask\n",
        "\n",
        "def dice_coefficients(y_true, y_pred, smooth=100):\n",
        "    y_true_flatten = K.flatten(y_true)\n",
        "    y_pred_flatten = K.flatten(y_pred)\n",
        "    intersection = K.sum(y_true_flatten * y_pred_flatten)\n",
        "    union = K.sum(y_true_flatten) + K.sum(y_pred_flatten)\n",
        "    return (2 * intersection + smooth) / (union + smooth)\n",
        "\n",
        "def dice_coefficients_loss(y_true, y_pred, smooth=100):\n",
        "    return -dice_coefficients(y_true, y_pred, smooth)\n",
        "\n",
        "\n",
        "def iou(y_true, y_pred, smooth=100):\n",
        "    intersection = K.sum(y_true * y_pred)\n",
        "    union = K.sum(y_true + y_pred)\n",
        "    iou = (intersection + smooth) / (union - intersection + smooth)\n",
        "    return iou\n",
        "\n",
        "# Jaccard distance (1 - IoU)\n",
        "def jaccard_distance(y_true, y_pred):\n",
        "    y_true_flatten = K.flatten(y_true)\n",
        "    y_pred_flatten = K.flatten(y_pred)\n",
        "    return -iou(y_true_flatten, y_pred_flatten)\n",
        "\n",
        "# Train generator for loading images and masks\n",
        "def train_generator(\n",
        "    data_frame,\n",
        "    batch_size,\n",
        "    augmentation_dict,\n",
        "    image_color_mode=\"rgb\",\n",
        "    mask_color_mode=\"grayscale\",\n",
        "    image_save_prefix=\"image\",\n",
        "    mask_save_prefix=\"mask\",\n",
        "    save_to_dir=None,\n",
        "    target_size=(256, 256),\n",
        "    seed=1,\n",
        "):\n",
        "    image_datagen = ImageDataGenerator(**augmentation_dict)\n",
        "    mask_datagen = ImageDataGenerator(**augmentation_dict)\n",
        "\n",
        "    image_generator = image_datagen.flow_from_dataframe(\n",
        "        data_frame,\n",
        "        x_col=\"image_filename_train\",\n",
        "        class_mode=None,\n",
        "        color_mode=image_color_mode,\n",
        "        target_size=target_size,\n",
        "        batch_size=batch_size,\n",
        "        save_to_dir=save_to_dir,\n",
        "        save_prefix=image_save_prefix,\n",
        "        seed=seed,\n",
        "    )\n",
        "\n",
        "    mask_generator = mask_datagen.flow_from_dataframe(\n",
        "        data_frame,\n",
        "        x_col=\"mask\",\n",
        "        class_mode=None,\n",
        "        color_mode=mask_color_mode,\n",
        "        target_size=target_size,\n",
        "        batch_size=batch_size,\n",
        "        save_to_dir=save_to_dir,\n",
        "        save_prefix=mask_save_prefix,\n",
        "        seed=seed,\n",
        "    )\n",
        "\n",
        "    # Final return Tuple after image Normalization and Diagnostics\n",
        "    for img, mask in zip(image_generator, mask_generator):\n",
        "        img, mask = normalize_and_diagnose(img, mask)\n",
        "        yield img, mask\n",
        "\n",
        "\n"
      ],
      "metadata": {
        "id": "TozKwdnAWGFQ"
      },
      "execution_count": 9,
      "outputs": []
    },
    {
      "cell_type": "code",
      "source": [
        "display(Image(filename='Unet_Architecture.png'))"
      ],
      "metadata": {
        "id": "fWNeY6aoWMr7",
        "colab": {
          "base_uri": "https://localhost:8080/",
          "height": 287
        },
        "outputId": "c20c47bb-c7b9-4e9c-85a4-fdf606aefd6d"
      },
      "execution_count": null,
      "outputs": [
        {
          "output_type": "error",
          "ename": "FileNotFoundError",
          "evalue": "[Errno 2] No such file or directory: 'Unet_Architecture.png'",
          "traceback": [
            "\u001b[0;31m---------------------------------------------------------------------------\u001b[0m",
            "\u001b[0;31mFileNotFoundError\u001b[0m                         Traceback (most recent call last)",
            "\u001b[0;32m<ipython-input-12-d62fa7232082>\u001b[0m in \u001b[0;36m<cell line: 1>\u001b[0;34m()\u001b[0m\n\u001b[0;32m----> 1\u001b[0;31m \u001b[0mdisplay\u001b[0m\u001b[0;34m(\u001b[0m\u001b[0mImage\u001b[0m\u001b[0;34m(\u001b[0m\u001b[0mfilename\u001b[0m\u001b[0;34m=\u001b[0m\u001b[0;34m'Unet_Architecture.png'\u001b[0m\u001b[0;34m)\u001b[0m\u001b[0;34m)\u001b[0m\u001b[0;34m\u001b[0m\u001b[0;34m\u001b[0m\u001b[0m\n\u001b[0m",
            "\u001b[0;32m/usr/local/lib/python3.10/dist-packages/IPython/core/display.py\u001b[0m in \u001b[0;36m__init__\u001b[0;34m(self, data, url, filename, format, embed, width, height, retina, unconfined, metadata)\u001b[0m\n\u001b[1;32m   1229\u001b[0m         \u001b[0mself\u001b[0m\u001b[0;34m.\u001b[0m\u001b[0mretina\u001b[0m \u001b[0;34m=\u001b[0m \u001b[0mretina\u001b[0m\u001b[0;34m\u001b[0m\u001b[0;34m\u001b[0m\u001b[0m\n\u001b[1;32m   1230\u001b[0m         \u001b[0mself\u001b[0m\u001b[0;34m.\u001b[0m\u001b[0munconfined\u001b[0m \u001b[0;34m=\u001b[0m \u001b[0munconfined\u001b[0m\u001b[0;34m\u001b[0m\u001b[0;34m\u001b[0m\u001b[0m\n\u001b[0;32m-> 1231\u001b[0;31m         super(Image, self).__init__(data=data, url=url, filename=filename, \n\u001b[0m\u001b[1;32m   1232\u001b[0m                 metadata=metadata)\n\u001b[1;32m   1233\u001b[0m \u001b[0;34m\u001b[0m\u001b[0m\n",
            "\u001b[0;32m/usr/local/lib/python3.10/dist-packages/IPython/core/display.py\u001b[0m in \u001b[0;36m__init__\u001b[0;34m(self, data, url, filename, metadata)\u001b[0m\n\u001b[1;32m    635\u001b[0m             \u001b[0mself\u001b[0m\u001b[0;34m.\u001b[0m\u001b[0mmetadata\u001b[0m \u001b[0;34m=\u001b[0m \u001b[0;34m{\u001b[0m\u001b[0;34m}\u001b[0m\u001b[0;34m\u001b[0m\u001b[0;34m\u001b[0m\u001b[0m\n\u001b[1;32m    636\u001b[0m \u001b[0;34m\u001b[0m\u001b[0m\n\u001b[0;32m--> 637\u001b[0;31m         \u001b[0mself\u001b[0m\u001b[0;34m.\u001b[0m\u001b[0mreload\u001b[0m\u001b[0;34m(\u001b[0m\u001b[0;34m)\u001b[0m\u001b[0;34m\u001b[0m\u001b[0;34m\u001b[0m\u001b[0m\n\u001b[0m\u001b[1;32m    638\u001b[0m         \u001b[0mself\u001b[0m\u001b[0;34m.\u001b[0m\u001b[0m_check_data\u001b[0m\u001b[0;34m(\u001b[0m\u001b[0;34m)\u001b[0m\u001b[0;34m\u001b[0m\u001b[0;34m\u001b[0m\u001b[0m\n\u001b[1;32m    639\u001b[0m \u001b[0;34m\u001b[0m\u001b[0m\n",
            "\u001b[0;32m/usr/local/lib/python3.10/dist-packages/IPython/core/display.py\u001b[0m in \u001b[0;36mreload\u001b[0;34m(self)\u001b[0m\n\u001b[1;32m   1261\u001b[0m         \u001b[0;34m\"\"\"Reload the raw data from file or URL.\"\"\"\u001b[0m\u001b[0;34m\u001b[0m\u001b[0;34m\u001b[0m\u001b[0m\n\u001b[1;32m   1262\u001b[0m         \u001b[0;32mif\u001b[0m \u001b[0mself\u001b[0m\u001b[0;34m.\u001b[0m\u001b[0membed\u001b[0m\u001b[0;34m:\u001b[0m\u001b[0;34m\u001b[0m\u001b[0;34m\u001b[0m\u001b[0m\n\u001b[0;32m-> 1263\u001b[0;31m             \u001b[0msuper\u001b[0m\u001b[0;34m(\u001b[0m\u001b[0mImage\u001b[0m\u001b[0;34m,\u001b[0m\u001b[0mself\u001b[0m\u001b[0;34m)\u001b[0m\u001b[0;34m.\u001b[0m\u001b[0mreload\u001b[0m\u001b[0;34m(\u001b[0m\u001b[0;34m)\u001b[0m\u001b[0;34m\u001b[0m\u001b[0;34m\u001b[0m\u001b[0m\n\u001b[0m\u001b[1;32m   1264\u001b[0m             \u001b[0;32mif\u001b[0m \u001b[0mself\u001b[0m\u001b[0;34m.\u001b[0m\u001b[0mretina\u001b[0m\u001b[0;34m:\u001b[0m\u001b[0;34m\u001b[0m\u001b[0;34m\u001b[0m\u001b[0m\n\u001b[1;32m   1265\u001b[0m                 \u001b[0mself\u001b[0m\u001b[0;34m.\u001b[0m\u001b[0m_retina_shape\u001b[0m\u001b[0;34m(\u001b[0m\u001b[0;34m)\u001b[0m\u001b[0;34m\u001b[0m\u001b[0;34m\u001b[0m\u001b[0m\n",
            "\u001b[0;32m/usr/local/lib/python3.10/dist-packages/IPython/core/display.py\u001b[0m in \u001b[0;36mreload\u001b[0;34m(self)\u001b[0m\n\u001b[1;32m    660\u001b[0m         \u001b[0;34m\"\"\"Reload the raw data from file or URL.\"\"\"\u001b[0m\u001b[0;34m\u001b[0m\u001b[0;34m\u001b[0m\u001b[0m\n\u001b[1;32m    661\u001b[0m         \u001b[0;32mif\u001b[0m \u001b[0mself\u001b[0m\u001b[0;34m.\u001b[0m\u001b[0mfilename\u001b[0m \u001b[0;32mis\u001b[0m \u001b[0;32mnot\u001b[0m \u001b[0;32mNone\u001b[0m\u001b[0;34m:\u001b[0m\u001b[0;34m\u001b[0m\u001b[0;34m\u001b[0m\u001b[0m\n\u001b[0;32m--> 662\u001b[0;31m             \u001b[0;32mwith\u001b[0m \u001b[0mopen\u001b[0m\u001b[0;34m(\u001b[0m\u001b[0mself\u001b[0m\u001b[0;34m.\u001b[0m\u001b[0mfilename\u001b[0m\u001b[0;34m,\u001b[0m \u001b[0mself\u001b[0m\u001b[0;34m.\u001b[0m\u001b[0m_read_flags\u001b[0m\u001b[0;34m)\u001b[0m \u001b[0;32mas\u001b[0m \u001b[0mf\u001b[0m\u001b[0;34m:\u001b[0m\u001b[0;34m\u001b[0m\u001b[0;34m\u001b[0m\u001b[0m\n\u001b[0m\u001b[1;32m    663\u001b[0m                 \u001b[0mself\u001b[0m\u001b[0;34m.\u001b[0m\u001b[0mdata\u001b[0m \u001b[0;34m=\u001b[0m \u001b[0mf\u001b[0m\u001b[0;34m.\u001b[0m\u001b[0mread\u001b[0m\u001b[0;34m(\u001b[0m\u001b[0;34m)\u001b[0m\u001b[0;34m\u001b[0m\u001b[0;34m\u001b[0m\u001b[0m\n\u001b[1;32m    664\u001b[0m         \u001b[0;32melif\u001b[0m \u001b[0mself\u001b[0m\u001b[0;34m.\u001b[0m\u001b[0murl\u001b[0m \u001b[0;32mis\u001b[0m \u001b[0;32mnot\u001b[0m \u001b[0;32mNone\u001b[0m\u001b[0;34m:\u001b[0m\u001b[0;34m\u001b[0m\u001b[0;34m\u001b[0m\u001b[0m\n",
            "\u001b[0;31mFileNotFoundError\u001b[0m: [Errno 2] No such file or directory: 'Unet_Architecture.png'"
          ]
        }
      ]
    },
    {
      "cell_type": "code",
      "source": [
        "def unet(input_size=(im_width, im_height, 3)):\n",
        "\n",
        "    inputs = Input(input_size)\n",
        "\n",
        "    # First DownConvolution / Encoder Leg will begin, so start with Conv2D\n",
        "    conv1 = Conv2D(filters=64, kernel_size=(3, 3), padding=\"same\")(inputs)\n",
        "    bn1 = Activation(\"relu\")(conv1)\n",
        "    conv1 = Conv2D(filters=64, kernel_size=(3, 3), padding=\"same\")(bn1)\n",
        "    bn1 = BatchNormalization(axis=3)(conv1)\n",
        "    bn1 = Activation(\"relu\")(bn1)\n",
        "    pool1 = MaxPooling2D(pool_size=(2, 2))(bn1)\n",
        "    # First DownSampling\n",
        "    conv2 = Conv2D(filters=128, kernel_size=(3, 3), padding=\"same\")(pool1)\n",
        "    bn2 = Activation(\"relu\")(conv2)\n",
        "    conv2 = Conv2D(filters=128, kernel_size=(3, 3), padding=\"same\")(bn2)\n",
        "    bn2 = BatchNormalization(axis=3)(conv2)\n",
        "    bn2 = Activation(\"relu\")(bn2)\n",
        "    pool2 = MaxPooling2D(pool_size=(2, 2))(bn2)\n",
        "    #Second DownSampling\n",
        "    conv3 = Conv2D(filters=256, kernel_size=(3, 3), padding=\"same\")(pool2)\n",
        "    bn3 = Activation(\"relu\")(conv3)\n",
        "    conv3 = Conv2D(filters=256, kernel_size=(3, 3), padding=\"same\")(bn3)\n",
        "    bn3 = BatchNormalization(axis=3)(conv3)\n",
        "    bn3 = Activation(\"relu\")(bn3)\n",
        "    pool3 = MaxPooling2D(pool_size=(2, 2))(bn3)\n",
        "    # Third DownSampling\n",
        "    conv4 = Conv2D(filters=512, kernel_size=(3, 3), padding=\"same\")(pool3)\n",
        "    bn4 = Activation(\"relu\")(conv4)\n",
        "    conv4 = Conv2D(filters=512, kernel_size=(3, 3), padding=\"same\")(bn4)\n",
        "    bn4 = BatchNormalization(axis=3)(conv4)\n",
        "    bn4 = Activation(\"relu\")(bn4)\n",
        "    pool4 = MaxPooling2D(pool_size=(2, 2))(bn4)\n",
        "\n",
        "    conv5 = Conv2D(filters=1024, kernel_size=(3, 3), padding=\"same\")(pool4)\n",
        "    bn5 = Activation(\"relu\")(conv5)\n",
        "    conv5 = Conv2D(filters=1024, kernel_size=(3, 3), padding=\"same\")(bn5)\n",
        "    bn5 = BatchNormalization(axis=3)(conv5)\n",
        "    bn5 = Activation(\"relu\")(bn5)\n",
        "\n",
        "    up6 = concatenate([Conv2DTranspose(512, kernel_size=(2, 2), strides=(2, 2), padding=\"same\")(bn5), conv4], axis=3)\n",
        "    \"\"\" After every concatenation we again apply two consecutive regular convolutions so that the model can learn to assemble a more precise output \"\"\"\n",
        "    conv6 = Conv2D(filters=512, kernel_size=(3, 3), padding=\"same\")(up6)\n",
        "    bn6 = Activation(\"relu\")(conv6)\n",
        "    conv6 = Conv2D(filters=512, kernel_size=(3, 3), padding=\"same\")(bn6)\n",
        "    bn6 = BatchNormalization(axis=3)(conv6)\n",
        "    bn6 = Activation(\"relu\")(bn6)\n",
        "\n",
        "    up7 = concatenate([Conv2DTranspose(256, kernel_size=(2, 2), strides=(2, 2), padding=\"same\")(bn6),conv3], axis=3)\n",
        "    conv7 = Conv2D(filters=256, kernel_size=(3, 3), padding=\"same\")(up7)\n",
        "    bn7 = Activation(\"relu\")(conv7)\n",
        "    conv7 = Conv2D(filters=256, kernel_size=(3, 3), padding=\"same\")(bn7)\n",
        "    bn7 = BatchNormalization(axis=3)(conv7)\n",
        "    bn7 = Activation(\"relu\")(bn7)\n",
        "\n",
        "    up8 = concatenate([Conv2DTranspose(128, kernel_size=(2, 2), strides=(2, 2), padding=\"same\")(bn7),conv2], axis=3)\n",
        "    conv8 = Conv2D(filters=128, kernel_size=(3, 3), padding=\"same\")(up8)\n",
        "    bn8 = Activation(\"relu\")(conv8)\n",
        "    conv8 = Conv2D(filters=128, kernel_size=(3, 3), padding=\"same\")(bn8)\n",
        "    bn8 = BatchNormalization(axis=3)(conv8)\n",
        "    bn8 = Activation(\"relu\")(bn8)\n",
        "\n",
        "    up9 = concatenate([Conv2DTranspose(64, kernel_size=(2, 2), strides=(2, 2), padding=\"same\")(bn8),conv1],axis=3)\n",
        "    conv9 = Conv2D(filters=64, kernel_size=(3, 3), padding=\"same\")(up9)\n",
        "    bn9 = Activation(\"relu\")(conv9)\n",
        "    conv9 = Conv2D(filters=64, kernel_size=(3, 3), padding=\"same\")(bn9)\n",
        "    bn9 = BatchNormalization(axis=3)(conv9)\n",
        "    bn9 = Activation(\"relu\")(bn9)\n",
        "\n",
        "    conv10 = Conv2D(filters=1, kernel_size=(1, 1), activation=\"sigmoid\")(bn9)\n",
        "\n",
        "    return Model(inputs=[inputs], outputs=[conv10])"
      ],
      "metadata": {
        "id": "_VBenGNoWQ8t"
      },
      "execution_count": 10,
      "outputs": []
    },
    {
      "cell_type": "code",
      "source": [
        "from tensorflow.keras.optimizers import Adam\n",
        "\n",
        "EPOCHS = 30\n",
        "BATCH_SIZE = 32\n",
        "learning_rate = 1e-4\n",
        "\n",
        "train_generator_args = dict(rotation_range=0.2,\n",
        "                            width_shift_range=0.05,\n",
        "                            height_shift_range=0.05,\n",
        "                            shear_range=0.05,\n",
        "                            zoom_range=0.05,\n",
        "                            horizontal_flip=True,\n",
        "                            fill_mode='nearest')\n",
        "train_gen = train_generator(df_train, BATCH_SIZE,\n",
        "                                train_generator_args,\n",
        "                                target_size=(im_height, im_width))\n",
        "\n",
        "test_gener = train_generator(df_val, BATCH_SIZE,\n",
        "                                dict(),\n",
        "                                target_size=(im_height, im_width))\n",
        "\n",
        "model = unet(input_size=(im_height, im_width, 3))\n",
        "\n",
        "\n",
        "\n",
        "# decay_rate = learning_rate / EPOCHS\n",
        "\n",
        "# opt = Adam(learning_rate=learning_rate, beta_1=0.9, beta_2=0.999, epsilon=None, amsgrad=False)\n",
        "# model.compile(optimizer=opt, loss=dice_coefficients_loss, metrics=[\"binary_accuracy\", iou, dice_coefficients])\n",
        "\n",
        "opt = Adam(learning_rate=learning_rate, beta_1=0.9, beta_2=0.999, epsilon=1e-07, amsgrad=False)\n",
        "\n",
        "# Compile the model\n",
        "model.compile(\n",
        "    optimizer=opt,\n",
        "    loss=dice_coefficients_loss,\n",
        "    metrics=[\"binary_accuracy\", iou, dice_coefficients]\n",
        ")\n",
        "\n",
        "# callbacks = [ModelCheckpoint('unet_brain_mri_seg.hdf5', verbose=1, save_best_only=True)]\n",
        "callbacks = [\n",
        "    ModelCheckpoint(\n",
        "        'unet_brain_mri_seg.keras',  # Use .keras extension\n",
        "        verbose=1,\n",
        "        save_best_only=True,\n",
        "        save_weights_only=False,  # Ensures the entire model is saved, not just weights\n",
        "        monitor='val_loss',  # Monitor validation loss to save the best model\n",
        "        mode='min'  # Save model when validation loss decreases\n",
        "    )\n",
        "]\n",
        "\n",
        "\n",
        "# history = model.fit(train_gen,\n",
        "#                     steps_per_epoch=len(df_train) / BATCH_SIZE,\n",
        "#                     epochs=EPOCHS,\n",
        "#                     callbacks=callbacks,\n",
        "#                     validation_data = test_gener,\n",
        "#                     validation_steps=len(df_val) / BATCH_SIZE)\n",
        "\n",
        "history = model.fit(\n",
        "    train_gen,\n",
        "    steps_per_epoch=int(len(df_train) / BATCH_SIZE),\n",
        "    epochs=EPOCHS,\n",
        "    callbacks=callbacks,\n",
        "    validation_data=test_gener,\n",
        "    validation_steps=int(len(df_val) / BATCH_SIZE)\n",
        ")\n"
      ],
      "metadata": {
        "id": "tzK7W4v7WVRv",
        "colab": {
          "base_uri": "https://localhost:8080/"
        },
        "outputId": "f1e91b65-6611-49e0-c58a-b1247cf5b2a4"
      },
      "execution_count": 11,
      "outputs": [
        {
          "output_type": "stream",
          "name": "stdout",
          "text": [
            "Found 3545 validated image filenames.\n",
            "Found 3545 validated image filenames.\n",
            "Epoch 1/30\n",
            "\u001b[1m110/110\u001b[0m \u001b[32m━━━━━━━━━━━━━━━━━━━━\u001b[0m\u001b[37m\u001b[0m \u001b[1m0s\u001b[0m 44s/step - binary_accuracy: 0.8895 - dice_coefficients: 0.0987 - iou: 0.0534 - loss: -0.0987 Found 187 validated image filenames.\n",
            "Found 187 validated image filenames.\n",
            "\n",
            "Epoch 1: val_loss improved from inf to -0.02768, saving model to unet_brain_mri_seg.keras\n",
            "\u001b[1m110/110\u001b[0m \u001b[32m━━━━━━━━━━━━━━━━━━━━\u001b[0m\u001b[37m\u001b[0m \u001b[1m5129s\u001b[0m 46s/step - binary_accuracy: 0.8900 - dice_coefficients: 0.0991 - iou: 0.0536 - loss: -0.0991 - val_binary_accuracy: 0.9869 - val_dice_coefficients: 0.0277 - val_iou: 0.0141 - val_loss: -0.0277\n",
            "Epoch 2/30\n",
            "\u001b[1m110/110\u001b[0m \u001b[32m━━━━━━━━━━━━━━━━━━━━\u001b[0m\u001b[37m\u001b[0m \u001b[1m0s\u001b[0m 2s/step - binary_accuracy: 0.9846 - dice_coefficients: 0.2129 - iou: 0.1217 - loss: -0.2132\n",
            "Epoch 2: val_loss did not improve from -0.02768\n",
            "\u001b[1m110/110\u001b[0m \u001b[32m━━━━━━━━━━━━━━━━━━━━\u001b[0m\u001b[37m\u001b[0m \u001b[1m304s\u001b[0m 2s/step - binary_accuracy: 0.9847 - dice_coefficients: 0.2131 - iou: 0.1218 - loss: -0.2134 - val_binary_accuracy: 0.9874 - val_dice_coefficients: 0.0259 - val_iou: 0.0134 - val_loss: -0.0259\n",
            "Epoch 3/30\n",
            "\u001b[1m110/110\u001b[0m \u001b[32m━━━━━━━━━━━━━━━━━━━━\u001b[0m\u001b[37m\u001b[0m \u001b[1m0s\u001b[0m 2s/step - binary_accuracy: 0.9903 - dice_coefficients: 0.2913 - iou: 0.1733 - loss: -0.2906\n",
            "Epoch 3: val_loss improved from -0.02768 to -0.05313, saving model to unet_brain_mri_seg.keras\n",
            "\u001b[1m110/110\u001b[0m \u001b[32m━━━━━━━━━━━━━━━━━━━━\u001b[0m\u001b[37m\u001b[0m \u001b[1m176s\u001b[0m 2s/step - binary_accuracy: 0.9903 - dice_coefficients: 0.2915 - iou: 0.1735 - loss: -0.2908 - val_binary_accuracy: 0.9854 - val_dice_coefficients: 0.0534 - val_iou: 0.0280 - val_loss: -0.0531\n",
            "Epoch 4/30\n",
            "\u001b[1m110/110\u001b[0m \u001b[32m━━━━━━━━━━━━━━━━━━━━\u001b[0m\u001b[37m\u001b[0m \u001b[1m0s\u001b[0m 2s/step - binary_accuracy: 0.9926 - dice_coefficients: 0.3649 - iou: 0.2267 - loss: -0.3656\n",
            "Epoch 4: val_loss improved from -0.05313 to -0.29841, saving model to unet_brain_mri_seg.keras\n",
            "\u001b[1m110/110\u001b[0m \u001b[32m━━━━━━━━━━━━━━━━━━━━\u001b[0m\u001b[37m\u001b[0m \u001b[1m178s\u001b[0m 2s/step - binary_accuracy: 0.9926 - dice_coefficients: 0.3651 - iou: 0.2268 - loss: -0.3657 - val_binary_accuracy: 0.9843 - val_dice_coefficients: 0.2941 - val_iou: 0.1760 - val_loss: -0.2984\n",
            "Epoch 5/30\n",
            "\u001b[1m110/110\u001b[0m \u001b[32m━━━━━━━━━━━━━━━━━━━━\u001b[0m\u001b[37m\u001b[0m \u001b[1m0s\u001b[0m 2s/step - binary_accuracy: 0.9941 - dice_coefficients: 0.4391 - iou: 0.2867 - loss: -0.4388\n",
            "Epoch 5: val_loss improved from -0.29841 to -0.47655, saving model to unet_brain_mri_seg.keras\n",
            "\u001b[1m110/110\u001b[0m \u001b[32m━━━━━━━━━━━━━━━━━━━━\u001b[0m\u001b[37m\u001b[0m \u001b[1m176s\u001b[0m 2s/step - binary_accuracy: 0.9941 - dice_coefficients: 0.4393 - iou: 0.2868 - loss: -0.4390 - val_binary_accuracy: 0.9925 - val_dice_coefficients: 0.4785 - val_iou: 0.3193 - val_loss: -0.4765\n",
            "Epoch 6/30\n",
            "\u001b[1m110/110\u001b[0m \u001b[32m━━━━━━━━━━━━━━━━━━━━\u001b[0m\u001b[37m\u001b[0m \u001b[1m0s\u001b[0m 2s/step - binary_accuracy: 0.9946 - dice_coefficients: 0.5029 - iou: 0.3410 - loss: -0.5023\n",
            "Epoch 6: val_loss improved from -0.47655 to -0.60670, saving model to unet_brain_mri_seg.keras\n",
            "\u001b[1m110/110\u001b[0m \u001b[32m━━━━━━━━━━━━━━━━━━━━\u001b[0m\u001b[37m\u001b[0m \u001b[1m179s\u001b[0m 2s/step - binary_accuracy: 0.9946 - dice_coefficients: 0.5031 - iou: 0.3412 - loss: -0.5025 - val_binary_accuracy: 0.9935 - val_dice_coefficients: 0.6074 - val_iou: 0.4386 - val_loss: -0.6067\n",
            "Epoch 7/30\n",
            "\u001b[1m110/110\u001b[0m \u001b[32m━━━━━━━━━━━━━━━━━━━━\u001b[0m\u001b[37m\u001b[0m \u001b[1m0s\u001b[0m 2s/step - binary_accuracy: 0.9948 - dice_coefficients: 0.5787 - iou: 0.4132 - loss: -0.5791\n",
            "Epoch 7: val_loss improved from -0.60670 to -0.62469, saving model to unet_brain_mri_seg.keras\n",
            "\u001b[1m110/110\u001b[0m \u001b[32m━━━━━━━━━━━━━━━━━━━━\u001b[0m\u001b[37m\u001b[0m \u001b[1m180s\u001b[0m 2s/step - binary_accuracy: 0.9948 - dice_coefficients: 0.5789 - iou: 0.4133 - loss: -0.5792 - val_binary_accuracy: 0.9941 - val_dice_coefficients: 0.6247 - val_iou: 0.4635 - val_loss: -0.6247\n",
            "Epoch 8/30\n",
            "\u001b[1m110/110\u001b[0m \u001b[32m━━━━━━━━━━━━━━━━━━━━\u001b[0m\u001b[37m\u001b[0m \u001b[1m0s\u001b[0m 2s/step - binary_accuracy: 0.9951 - dice_coefficients: 0.6102 - iou: 0.4475 - loss: -0.6099\n",
            "Epoch 8: val_loss improved from -0.62469 to -0.71290, saving model to unet_brain_mri_seg.keras\n",
            "\u001b[1m110/110\u001b[0m \u001b[32m━━━━━━━━━━━━━━━━━━━━\u001b[0m\u001b[37m\u001b[0m \u001b[1m180s\u001b[0m 2s/step - binary_accuracy: 0.9952 - dice_coefficients: 0.6104 - iou: 0.4477 - loss: -0.6101 - val_binary_accuracy: 0.9951 - val_dice_coefficients: 0.7120 - val_iou: 0.5547 - val_loss: -0.7129\n",
            "Epoch 9/30\n",
            "\u001b[1m110/110\u001b[0m \u001b[32m━━━━━━━━━━━━━━━━━━━━\u001b[0m\u001b[37m\u001b[0m \u001b[1m0s\u001b[0m 2s/step - binary_accuracy: 0.9960 - dice_coefficients: 0.6765 - iou: 0.5198 - loss: -0.6765\n",
            "Epoch 9: val_loss did not improve from -0.71290\n",
            "\u001b[1m110/110\u001b[0m \u001b[32m━━━━━━━━━━━━━━━━━━━━\u001b[0m\u001b[37m\u001b[0m \u001b[1m172s\u001b[0m 2s/step - binary_accuracy: 0.9960 - dice_coefficients: 0.6766 - iou: 0.5199 - loss: -0.6766 - val_binary_accuracy: 0.9940 - val_dice_coefficients: 0.6819 - val_iou: 0.5197 - val_loss: -0.6829\n",
            "Epoch 10/30\n",
            "\u001b[1m110/110\u001b[0m \u001b[32m━━━━━━━━━━━━━━━━━━━━\u001b[0m\u001b[37m\u001b[0m \u001b[1m0s\u001b[0m 2s/step - binary_accuracy: 0.9957 - dice_coefficients: 0.6920 - iou: 0.5369 - loss: -0.6919\n",
            "Epoch 10: val_loss did not improve from -0.71290\n",
            "\u001b[1m110/110\u001b[0m \u001b[32m━━━━━━━━━━━━━━━━━━━━\u001b[0m\u001b[37m\u001b[0m \u001b[1m171s\u001b[0m 2s/step - binary_accuracy: 0.9958 - dice_coefficients: 0.6922 - iou: 0.5371 - loss: -0.6920 - val_binary_accuracy: 0.9943 - val_dice_coefficients: 0.7042 - val_iou: 0.5453 - val_loss: -0.7036\n",
            "Epoch 11/30\n",
            "\u001b[1m110/110\u001b[0m \u001b[32m━━━━━━━━━━━━━━━━━━━━\u001b[0m\u001b[37m\u001b[0m \u001b[1m0s\u001b[0m 2s/step - binary_accuracy: 0.9958 - dice_coefficients: 0.6853 - iou: 0.5341 - loss: -0.6857\n",
            "Epoch 11: val_loss improved from -0.71290 to -0.74314, saving model to unet_brain_mri_seg.keras\n",
            "\u001b[1m110/110\u001b[0m \u001b[32m━━━━━━━━━━━━━━━━━━━━\u001b[0m\u001b[37m\u001b[0m \u001b[1m173s\u001b[0m 2s/step - binary_accuracy: 0.9958 - dice_coefficients: 0.6855 - iou: 0.5344 - loss: -0.6860 - val_binary_accuracy: 0.9948 - val_dice_coefficients: 0.7429 - val_iou: 0.5946 - val_loss: -0.7431\n",
            "Epoch 12/30\n",
            "\u001b[1m110/110\u001b[0m \u001b[32m━━━━━━━━━━━━━━━━━━━━\u001b[0m\u001b[37m\u001b[0m \u001b[1m0s\u001b[0m 2s/step - binary_accuracy: 0.9964 - dice_coefficients: 0.7552 - iou: 0.6126 - loss: -0.7552\n",
            "Epoch 12: val_loss improved from -0.74314 to -0.78483, saving model to unet_brain_mri_seg.keras\n",
            "\u001b[1m110/110\u001b[0m \u001b[32m━━━━━━━━━━━━━━━━━━━━\u001b[0m\u001b[37m\u001b[0m \u001b[1m174s\u001b[0m 2s/step - binary_accuracy: 0.9964 - dice_coefficients: 0.7552 - iou: 0.6127 - loss: -0.7552 - val_binary_accuracy: 0.9961 - val_dice_coefficients: 0.7867 - val_iou: 0.6520 - val_loss: -0.7848\n",
            "Epoch 13/30\n",
            "\u001b[1m110/110\u001b[0m \u001b[32m━━━━━━━━━━━━━━━━━━━━\u001b[0m\u001b[37m\u001b[0m \u001b[1m0s\u001b[0m 2s/step - binary_accuracy: 0.9969 - dice_coefficients: 0.7867 - iou: 0.6530 - loss: -0.7869\n",
            "Epoch 13: val_loss did not improve from -0.78483\n",
            "\u001b[1m110/110\u001b[0m \u001b[32m━━━━━━━━━━━━━━━━━━━━\u001b[0m\u001b[37m\u001b[0m \u001b[1m172s\u001b[0m 2s/step - binary_accuracy: 0.9969 - dice_coefficients: 0.7867 - iou: 0.6529 - loss: -0.7869 - val_binary_accuracy: 0.9958 - val_dice_coefficients: 0.7546 - val_iou: 0.6164 - val_loss: -0.7546\n",
            "Epoch 14/30\n",
            "\u001b[1m110/110\u001b[0m \u001b[32m━━━━━━━━━━━━━━━━━━━━\u001b[0m\u001b[37m\u001b[0m \u001b[1m0s\u001b[0m 2s/step - binary_accuracy: 0.9969 - dice_coefficients: 0.7907 - iou: 0.6587 - loss: -0.7907\n",
            "Epoch 14: val_loss improved from -0.78483 to -0.79345, saving model to unet_brain_mri_seg.keras\n",
            "\u001b[1m110/110\u001b[0m \u001b[32m━━━━━━━━━━━━━━━━━━━━\u001b[0m\u001b[37m\u001b[0m \u001b[1m181s\u001b[0m 2s/step - binary_accuracy: 0.9969 - dice_coefficients: 0.7907 - iou: 0.6586 - loss: -0.7907 - val_binary_accuracy: 0.9952 - val_dice_coefficients: 0.7936 - val_iou: 0.6592 - val_loss: -0.7934\n",
            "Epoch 15/30\n",
            "\u001b[1m110/110\u001b[0m \u001b[32m━━━━━━━━━━━━━━━━━━━━\u001b[0m\u001b[37m\u001b[0m \u001b[1m0s\u001b[0m 2s/step - binary_accuracy: 0.9960 - dice_coefficients: 0.7708 - iou: 0.6408 - loss: -0.7706\n",
            "Epoch 15: val_loss did not improve from -0.79345\n",
            "\u001b[1m110/110\u001b[0m \u001b[32m━━━━━━━━━━━━━━━━━━━━\u001b[0m\u001b[37m\u001b[0m \u001b[1m172s\u001b[0m 2s/step - binary_accuracy: 0.9960 - dice_coefficients: 0.7710 - iou: 0.6411 - loss: -0.7708 - val_binary_accuracy: 0.9963 - val_dice_coefficients: 0.7725 - val_iou: 0.6344 - val_loss: -0.7724\n",
            "Epoch 16/30\n",
            "\u001b[1m110/110\u001b[0m \u001b[32m━━━━━━━━━━━━━━━━━━━━\u001b[0m\u001b[37m\u001b[0m \u001b[1m0s\u001b[0m 2s/step - binary_accuracy: 0.9971 - dice_coefficients: 0.8075 - iou: 0.6816 - loss: -0.8079\n",
            "Epoch 16: val_loss improved from -0.79345 to -0.83375, saving model to unet_brain_mri_seg.keras\n",
            "\u001b[1m110/110\u001b[0m \u001b[32m━━━━━━━━━━━━━━━━━━━━\u001b[0m\u001b[37m\u001b[0m \u001b[1m179s\u001b[0m 2s/step - binary_accuracy: 0.9971 - dice_coefficients: 0.8075 - iou: 0.6817 - loss: -0.8080 - val_binary_accuracy: 0.9961 - val_dice_coefficients: 0.8348 - val_iou: 0.7186 - val_loss: -0.8337\n",
            "Epoch 17/30\n",
            "\u001b[1m110/110\u001b[0m \u001b[32m━━━━━━━━━━━━━━━━━━━━\u001b[0m\u001b[37m\u001b[0m \u001b[1m0s\u001b[0m 2s/step - binary_accuracy: 0.9970 - dice_coefficients: 0.8258 - iou: 0.7072 - loss: -0.8259\n",
            "Epoch 17: val_loss did not improve from -0.83375\n",
            "\u001b[1m110/110\u001b[0m \u001b[32m━━━━━━━━━━━━━━━━━━━━\u001b[0m\u001b[37m\u001b[0m \u001b[1m172s\u001b[0m 2s/step - binary_accuracy: 0.9970 - dice_coefficients: 0.8258 - iou: 0.7072 - loss: -0.8259 - val_binary_accuracy: 0.9968 - val_dice_coefficients: 0.7771 - val_iou: 0.6437 - val_loss: -0.7802\n",
            "Epoch 18/30\n",
            "\u001b[1m110/110\u001b[0m \u001b[32m━━━━━━━━━━━━━━━━━━━━\u001b[0m\u001b[37m\u001b[0m \u001b[1m0s\u001b[0m 2s/step - binary_accuracy: 0.9966 - dice_coefficients: 0.8199 - iou: 0.7045 - loss: -0.8198\n",
            "Epoch 18: val_loss improved from -0.83375 to -0.84449, saving model to unet_brain_mri_seg.keras\n",
            "\u001b[1m110/110\u001b[0m \u001b[32m━━━━━━━━━━━━━━━━━━━━\u001b[0m\u001b[37m\u001b[0m \u001b[1m179s\u001b[0m 2s/step - binary_accuracy: 0.9966 - dice_coefficients: 0.8200 - iou: 0.7046 - loss: -0.8199 - val_binary_accuracy: 0.9962 - val_dice_coefficients: 0.8449 - val_iou: 0.7337 - val_loss: -0.8445\n",
            "Epoch 19/30\n",
            "\u001b[1m110/110\u001b[0m \u001b[32m━━━━━━━━━━━━━━━━━━━━\u001b[0m\u001b[37m\u001b[0m \u001b[1m0s\u001b[0m 2s/step - binary_accuracy: 0.9972 - dice_coefficients: 0.8267 - iou: 0.7103 - loss: -0.8269\n",
            "Epoch 19: val_loss did not improve from -0.84449\n",
            "\u001b[1m110/110\u001b[0m \u001b[32m━━━━━━━━━━━━━━━━━━━━\u001b[0m\u001b[37m\u001b[0m \u001b[1m172s\u001b[0m 2s/step - binary_accuracy: 0.9972 - dice_coefficients: 0.8268 - iou: 0.7104 - loss: -0.8270 - val_binary_accuracy: 0.9962 - val_dice_coefficients: 0.8353 - val_iou: 0.7193 - val_loss: -0.8353\n",
            "Epoch 20/30\n",
            "\u001b[1m110/110\u001b[0m \u001b[32m━━━━━━━━━━━━━━━━━━━━\u001b[0m\u001b[37m\u001b[0m \u001b[1m0s\u001b[0m 2s/step - binary_accuracy: 0.9971 - dice_coefficients: 0.8348 - iou: 0.7222 - loss: -0.8347\n",
            "Epoch 20: val_loss improved from -0.84449 to -0.85612, saving model to unet_brain_mri_seg.keras\n",
            "\u001b[1m110/110\u001b[0m \u001b[32m━━━━━━━━━━━━━━━━━━━━\u001b[0m\u001b[37m\u001b[0m \u001b[1m179s\u001b[0m 2s/step - binary_accuracy: 0.9971 - dice_coefficients: 0.8348 - iou: 0.7221 - loss: -0.8346 - val_binary_accuracy: 0.9964 - val_dice_coefficients: 0.8567 - val_iou: 0.7511 - val_loss: -0.8561\n",
            "Epoch 21/30\n",
            "\u001b[1m110/110\u001b[0m \u001b[32m━━━━━━━━━━━━━━━━━━━━\u001b[0m\u001b[37m\u001b[0m \u001b[1m0s\u001b[0m 2s/step - binary_accuracy: 0.9966 - dice_coefficients: 0.8031 - iou: 0.6843 - loss: -0.8031\n",
            "Epoch 21: val_loss did not improve from -0.85612\n",
            "\u001b[1m110/110\u001b[0m \u001b[32m━━━━━━━━━━━━━━━━━━━━\u001b[0m\u001b[37m\u001b[0m \u001b[1m171s\u001b[0m 2s/step - binary_accuracy: 0.9966 - dice_coefficients: 0.8033 - iou: 0.6845 - loss: -0.8033 - val_binary_accuracy: 0.9944 - val_dice_coefficients: 0.6273 - val_iou: 0.4971 - val_loss: -0.6217\n",
            "Epoch 22/30\n",
            "\u001b[1m110/110\u001b[0m \u001b[32m━━━━━━━━━━━━━━━━━━━━\u001b[0m\u001b[37m\u001b[0m \u001b[1m0s\u001b[0m 2s/step - binary_accuracy: 0.9966 - dice_coefficients: 0.8345 - iou: 0.7224 - loss: -0.8346\n",
            "Epoch 22: val_loss did not improve from -0.85612\n",
            "\u001b[1m110/110\u001b[0m \u001b[32m━━━━━━━━━━━━━━━━━━━━\u001b[0m\u001b[37m\u001b[0m \u001b[1m171s\u001b[0m 2s/step - binary_accuracy: 0.9966 - dice_coefficients: 0.8345 - iou: 0.7224 - loss: -0.8347 - val_binary_accuracy: 0.9958 - val_dice_coefficients: 0.7850 - val_iou: 0.6499 - val_loss: -0.7836\n",
            "Epoch 23/30\n",
            "\u001b[1m110/110\u001b[0m \u001b[32m━━━━━━━━━━━━━━━━━━━━\u001b[0m\u001b[37m\u001b[0m \u001b[1m0s\u001b[0m 2s/step - binary_accuracy: 0.9966 - dice_coefficients: 0.8147 - iou: 0.7001 - loss: -0.8149\n",
            "Epoch 23: val_loss did not improve from -0.85612\n",
            "\u001b[1m110/110\u001b[0m \u001b[32m━━━━━━━━━━━━━━━━━━━━\u001b[0m\u001b[37m\u001b[0m \u001b[1m171s\u001b[0m 2s/step - binary_accuracy: 0.9966 - dice_coefficients: 0.8149 - iou: 0.7004 - loss: -0.8151 - val_binary_accuracy: 0.9956 - val_dice_coefficients: 0.8131 - val_iou: 0.6867 - val_loss: -0.8142\n",
            "Epoch 24/30\n",
            "\u001b[1m110/110\u001b[0m \u001b[32m━━━━━━━━━━━━━━━━━━━━\u001b[0m\u001b[37m\u001b[0m \u001b[1m0s\u001b[0m 2s/step - binary_accuracy: 0.9969 - dice_coefficients: 0.8438 - iou: 0.7359 - loss: -0.8437\n",
            "Epoch 24: val_loss improved from -0.85612 to -0.86110, saving model to unet_brain_mri_seg.keras\n",
            "\u001b[1m110/110\u001b[0m \u001b[32m━━━━━━━━━━━━━━━━━━━━\u001b[0m\u001b[37m\u001b[0m \u001b[1m179s\u001b[0m 2s/step - binary_accuracy: 0.9969 - dice_coefficients: 0.8440 - iou: 0.7361 - loss: -0.8439 - val_binary_accuracy: 0.9964 - val_dice_coefficients: 0.8611 - val_iou: 0.7570 - val_loss: -0.8611\n",
            "Epoch 25/30\n",
            "\u001b[1m110/110\u001b[0m \u001b[32m━━━━━━━━━━━━━━━━━━━━\u001b[0m\u001b[37m\u001b[0m \u001b[1m0s\u001b[0m 2s/step - binary_accuracy: 0.9974 - dice_coefficients: 0.8496 - iou: 0.7424 - loss: -0.8498\n",
            "Epoch 25: val_loss did not improve from -0.86110\n",
            "\u001b[1m110/110\u001b[0m \u001b[32m━━━━━━━━━━━━━━━━━━━━\u001b[0m\u001b[37m\u001b[0m \u001b[1m171s\u001b[0m 2s/step - binary_accuracy: 0.9974 - dice_coefficients: 0.8497 - iou: 0.7425 - loss: -0.8498 - val_binary_accuracy: 0.9954 - val_dice_coefficients: 0.7743 - val_iou: 0.6402 - val_loss: -0.7743\n",
            "Epoch 26/30\n",
            "\u001b[1m110/110\u001b[0m \u001b[32m━━━━━━━━━━━━━━━━━━━━\u001b[0m\u001b[37m\u001b[0m \u001b[1m0s\u001b[0m 2s/step - binary_accuracy: 0.9971 - dice_coefficients: 0.8483 - iou: 0.7452 - loss: -0.8482\n",
            "Epoch 26: val_loss improved from -0.86110 to -0.86890, saving model to unet_brain_mri_seg.keras\n",
            "\u001b[1m110/110\u001b[0m \u001b[32m━━━━━━━━━━━━━━━━━━━━\u001b[0m\u001b[37m\u001b[0m \u001b[1m173s\u001b[0m 2s/step - binary_accuracy: 0.9971 - dice_coefficients: 0.8484 - iou: 0.7453 - loss: -0.8483 - val_binary_accuracy: 0.9963 - val_dice_coefficients: 0.8699 - val_iou: 0.7704 - val_loss: -0.8689\n",
            "Epoch 27/30\n",
            "\u001b[1m110/110\u001b[0m \u001b[32m━━━━━━━━━━━━━━━━━━━━\u001b[0m\u001b[37m\u001b[0m \u001b[1m0s\u001b[0m 2s/step - binary_accuracy: 0.9973 - dice_coefficients: 0.8676 - iou: 0.7690 - loss: -0.8674\n",
            "Epoch 27: val_loss did not improve from -0.86890\n",
            "\u001b[1m110/110\u001b[0m \u001b[32m━━━━━━━━━━━━━━━━━━━━\u001b[0m\u001b[37m\u001b[0m \u001b[1m171s\u001b[0m 2s/step - binary_accuracy: 0.9973 - dice_coefficients: 0.8675 - iou: 0.7689 - loss: -0.8674 - val_binary_accuracy: 0.9966 - val_dice_coefficients: 0.8543 - val_iou: 0.7474 - val_loss: -0.8528\n",
            "Epoch 28/30\n",
            "\u001b[1m110/110\u001b[0m \u001b[32m━━━━━━━━━━━━━━━━━━━━\u001b[0m\u001b[37m\u001b[0m \u001b[1m0s\u001b[0m 2s/step - binary_accuracy: 0.9975 - dice_coefficients: 0.8675 - iou: 0.7695 - loss: -0.8675\n",
            "Epoch 28: val_loss did not improve from -0.86890\n",
            "\u001b[1m110/110\u001b[0m \u001b[32m━━━━━━━━━━━━━━━━━━━━\u001b[0m\u001b[37m\u001b[0m \u001b[1m171s\u001b[0m 2s/step - binary_accuracy: 0.9975 - dice_coefficients: 0.8675 - iou: 0.7695 - loss: -0.8675 - val_binary_accuracy: 0.9967 - val_dice_coefficients: 0.8457 - val_iou: 0.7367 - val_loss: -0.8452\n",
            "Epoch 29/30\n",
            "\u001b[1m110/110\u001b[0m \u001b[32m━━━━━━━━━━━━━━━━━━━━\u001b[0m\u001b[37m\u001b[0m \u001b[1m0s\u001b[0m 2s/step - binary_accuracy: 0.9976 - dice_coefficients: 0.8710 - iou: 0.7737 - loss: -0.8710\n",
            "Epoch 29: val_loss improved from -0.86890 to -0.90702, saving model to unet_brain_mri_seg.keras\n",
            "\u001b[1m110/110\u001b[0m \u001b[32m━━━━━━━━━━━━━━━━━━━━\u001b[0m\u001b[37m\u001b[0m \u001b[1m175s\u001b[0m 2s/step - binary_accuracy: 0.9976 - dice_coefficients: 0.8711 - iou: 0.7738 - loss: -0.8711 - val_binary_accuracy: 0.9977 - val_dice_coefficients: 0.9078 - val_iou: 0.8318 - val_loss: -0.9070\n",
            "Epoch 30/30\n",
            "\u001b[1m110/110\u001b[0m \u001b[32m━━━━━━━━━━━━━━━━━━━━\u001b[0m\u001b[37m\u001b[0m \u001b[1m0s\u001b[0m 2s/step - binary_accuracy: 0.9974 - dice_coefficients: 0.8652 - iou: 0.7681 - loss: -0.8651\n",
            "Epoch 30: val_loss did not improve from -0.90702\n",
            "\u001b[1m110/110\u001b[0m \u001b[32m━━━━━━━━━━━━━━━━━━━━\u001b[0m\u001b[37m\u001b[0m \u001b[1m171s\u001b[0m 2s/step - binary_accuracy: 0.9974 - dice_coefficients: 0.8652 - iou: 0.7681 - loss: -0.8651 - val_binary_accuracy: 0.9966 - val_dice_coefficients: 0.8454 - val_iou: 0.7371 - val_loss: -0.8455\n"
          ]
        }
      ]
    },
    {
      "cell_type": "code",
      "source": [
        "history_post_training = history.history\n",
        "\n",
        "train_dice_coeff_list = history_post_training['dice_coefficients']\n",
        "test_dice_coeff_list = history_post_training['val_dice_coefficients']\n",
        "\n",
        "train_jaccard_list = history_post_training['iou']\n",
        "test_jaccard_list = history_post_training['val_iou']\n",
        "\n",
        "train_loss_list = history_post_training['loss']\n",
        "test_loss_list = history_post_training['val_loss']\n",
        "\n",
        "plt.figure(1)\n",
        "plt.plot(test_loss_list, 'b-')\n",
        "plt.plot(train_loss_list, 'r-')\n",
        "\n",
        "plt.xlabel('iterations')\n",
        "plt.ylabel('loss')\n",
        "plt.title('loss graph', fontsize=12)\n",
        "\n",
        "plt.figure(2)\n",
        "plt.plot(train_dice_coeff_list, 'b-')\n",
        "plt.plot(test_dice_coeff_list, 'r-')\n",
        "\n",
        "plt.xlabel('iterations')\n",
        "plt.ylabel('accuracy')\n",
        "plt.title('Accuracy graph', fontsize=12)\n",
        "plt.show()"
      ],
      "metadata": {
        "id": "Xl6Irr4KWYsN",
        "colab": {
          "base_uri": "https://localhost:8080/",
          "height": 935
        },
        "outputId": "279c8ab5-b0b6-43bf-e524-7f876a442428"
      },
      "execution_count": 13,
      "outputs": [
        {
          "output_type": "display_data",
          "data": {
            "text/plain": [
              "<Figure size 640x480 with 1 Axes>"
            ],
            "image/png": "[encoded data removed]"
          },
          "metadata": {}
        },
        {
          "output_type": "display_data",
          "data": {
            "text/plain": [
              "<Figure size 640x480 with 1 Axes>"
            ],
            "image/png": "[encoded data removed]"
          },
          "metadata": {}
        }
      ]
    },
    {
      "cell_type": "code",
      "source": [
        "model = load_model('unet_brain_mri_seg.hdf5', custom_objects={'dice_coef_loss': dice_coefficients_loss, 'iou': iou, 'dice_coef': dice_coefficients})"
      ],
      "metadata": {
        "id": "WCnYiehQWgV7",
        "colab": {
          "base_uri": "https://localhost:8080/",
          "height": 425
        },
        "collapsed": true,
        "outputId": "4a911b23-af07-4689-be9e-a43d9d6d3375"
      },
      "execution_count": 15,
      "outputs": [
        {
          "output_type": "error",
          "ename": "FileNotFoundError",
          "evalue": "[Errno 2] Unable to synchronously open file (unable to open file: name = 'unet_brain_mri_seg.hdf5', errno = 2, error message = 'No such file or directory', flags = 0, o_flags = 0)",
          "traceback": [
            "\u001b[0;31m---------------------------------------------------------------------------\u001b[0m",
            "\u001b[0;31mFileNotFoundError\u001b[0m                         Traceback (most recent call last)",
            "\u001b[0;32m<ipython-input-15-465066a4fc07>\u001b[0m in \u001b[0;36m<cell line: 1>\u001b[0;34m()\u001b[0m\n\u001b[0;32m----> 1\u001b[0;31m \u001b[0mmodel\u001b[0m \u001b[0;34m=\u001b[0m \u001b[0mload_model\u001b[0m\u001b[0;34m(\u001b[0m\u001b[0;34m'unet_brain_mri_seg.hdf5'\u001b[0m\u001b[0;34m,\u001b[0m \u001b[0mcustom_objects\u001b[0m\u001b[0;34m=\u001b[0m\u001b[0;34m{\u001b[0m\u001b[0;34m'dice_coef_loss'\u001b[0m\u001b[0;34m:\u001b[0m \u001b[0mdice_coefficients_loss\u001b[0m\u001b[0;34m,\u001b[0m \u001b[0;34m'iou'\u001b[0m\u001b[0;34m:\u001b[0m \u001b[0miou\u001b[0m\u001b[0;34m,\u001b[0m \u001b[0;34m'dice_coef'\u001b[0m\u001b[0;34m:\u001b[0m \u001b[0mdice_coefficients\u001b[0m\u001b[0;34m}\u001b[0m\u001b[0;34m)\u001b[0m\u001b[0;34m\u001b[0m\u001b[0;34m\u001b[0m\u001b[0m\n\u001b[0m",
            "\u001b[0;32m/usr/local/lib/python3.10/dist-packages/keras/src/saving/saving_api.py\u001b[0m in \u001b[0;36mload_model\u001b[0;34m(filepath, custom_objects, compile, safe_mode)\u001b[0m\n\u001b[1;32m    192\u001b[0m         )\n\u001b[1;32m    193\u001b[0m     \u001b[0;32mif\u001b[0m \u001b[0mstr\u001b[0m\u001b[0;34m(\u001b[0m\u001b[0mfilepath\u001b[0m\u001b[0;34m)\u001b[0m\u001b[0;34m.\u001b[0m\u001b[0mendswith\u001b[0m\u001b[0;34m(\u001b[0m\u001b[0;34m(\u001b[0m\u001b[0;34m\".h5\"\u001b[0m\u001b[0;34m,\u001b[0m \u001b[0;34m\".hdf5\"\u001b[0m\u001b[0;34m)\u001b[0m\u001b[0;34m)\u001b[0m\u001b[0;34m:\u001b[0m\u001b[0;34m\u001b[0m\u001b[0;34m\u001b[0m\u001b[0m\n\u001b[0;32m--> 194\u001b[0;31m         return legacy_h5_format.load_model_from_hdf5(\n\u001b[0m\u001b[1;32m    195\u001b[0m             \u001b[0mfilepath\u001b[0m\u001b[0;34m,\u001b[0m \u001b[0mcustom_objects\u001b[0m\u001b[0;34m=\u001b[0m\u001b[0mcustom_objects\u001b[0m\u001b[0;34m,\u001b[0m \u001b[0mcompile\u001b[0m\u001b[0;34m=\u001b[0m\u001b[0mcompile\u001b[0m\u001b[0;34m\u001b[0m\u001b[0;34m\u001b[0m\u001b[0m\n\u001b[1;32m    196\u001b[0m         )\n",
            "\u001b[0;32m/usr/local/lib/python3.10/dist-packages/keras/src/legacy/saving/legacy_h5_format.py\u001b[0m in \u001b[0;36mload_model_from_hdf5\u001b[0;34m(filepath, custom_objects, compile)\u001b[0m\n\u001b[1;32m    114\u001b[0m     \u001b[0mopened_new_file\u001b[0m \u001b[0;34m=\u001b[0m \u001b[0;32mnot\u001b[0m \u001b[0misinstance\u001b[0m\u001b[0;34m(\u001b[0m\u001b[0mfilepath\u001b[0m\u001b[0;34m,\u001b[0m \u001b[0mh5py\u001b[0m\u001b[0;34m.\u001b[0m\u001b[0mFile\u001b[0m\u001b[0;34m)\u001b[0m\u001b[0;34m\u001b[0m\u001b[0;34m\u001b[0m\u001b[0m\n\u001b[1;32m    115\u001b[0m     \u001b[0;32mif\u001b[0m \u001b[0mopened_new_file\u001b[0m\u001b[0;34m:\u001b[0m\u001b[0;34m\u001b[0m\u001b[0;34m\u001b[0m\u001b[0m\n\u001b[0;32m--> 116\u001b[0;31m         \u001b[0mf\u001b[0m \u001b[0;34m=\u001b[0m \u001b[0mh5py\u001b[0m\u001b[0;34m.\u001b[0m\u001b[0mFile\u001b[0m\u001b[0;34m(\u001b[0m\u001b[0mfilepath\u001b[0m\u001b[0;34m,\u001b[0m \u001b[0mmode\u001b[0m\u001b[0;34m=\u001b[0m\u001b[0;34m\"r\"\u001b[0m\u001b[0;34m)\u001b[0m\u001b[0;34m\u001b[0m\u001b[0;34m\u001b[0m\u001b[0m\n\u001b[0m\u001b[1;32m    117\u001b[0m     \u001b[0;32melse\u001b[0m\u001b[0;34m:\u001b[0m\u001b[0;34m\u001b[0m\u001b[0;34m\u001b[0m\u001b[0m\n\u001b[1;32m    118\u001b[0m         \u001b[0mf\u001b[0m \u001b[0;34m=\u001b[0m \u001b[0mfilepath\u001b[0m\u001b[0;34m\u001b[0m\u001b[0;34m\u001b[0m\u001b[0m\n",
            "\u001b[0;32m/usr/local/lib/python3.10/dist-packages/h5py/_hl/files.py\u001b[0m in \u001b[0;36m__init__\u001b[0;34m(self, name, mode, driver, libver, userblock_size, swmr, rdcc_nslots, rdcc_nbytes, rdcc_w0, track_order, fs_strategy, fs_persist, fs_threshold, fs_page_size, page_buf_size, min_meta_keep, min_raw_keep, locking, alignment_threshold, alignment_interval, meta_block_size, **kwds)\u001b[0m\n\u001b[1;32m    559\u001b[0m                                  \u001b[0mfs_persist\u001b[0m\u001b[0;34m=\u001b[0m\u001b[0mfs_persist\u001b[0m\u001b[0;34m,\u001b[0m \u001b[0mfs_threshold\u001b[0m\u001b[0;34m=\u001b[0m\u001b[0mfs_threshold\u001b[0m\u001b[0;34m,\u001b[0m\u001b[0;34m\u001b[0m\u001b[0;34m\u001b[0m\u001b[0m\n\u001b[1;32m    560\u001b[0m                                  fs_page_size=fs_page_size)\n\u001b[0;32m--> 561\u001b[0;31m                 \u001b[0mfid\u001b[0m \u001b[0;34m=\u001b[0m \u001b[0mmake_fid\u001b[0m\u001b[0;34m(\u001b[0m\u001b[0mname\u001b[0m\u001b[0;34m,\u001b[0m \u001b[0mmode\u001b[0m\u001b[0;34m,\u001b[0m \u001b[0muserblock_size\u001b[0m\u001b[0;34m,\u001b[0m \u001b[0mfapl\u001b[0m\u001b[0;34m,\u001b[0m \u001b[0mfcpl\u001b[0m\u001b[0;34m,\u001b[0m \u001b[0mswmr\u001b[0m\u001b[0;34m=\u001b[0m\u001b[0mswmr\u001b[0m\u001b[0;34m)\u001b[0m\u001b[0;34m\u001b[0m\u001b[0;34m\u001b[0m\u001b[0m\n\u001b[0m\u001b[1;32m    562\u001b[0m \u001b[0;34m\u001b[0m\u001b[0m\n\u001b[1;32m    563\u001b[0m             \u001b[0;32mif\u001b[0m \u001b[0misinstance\u001b[0m\u001b[0;34m(\u001b[0m\u001b[0mlibver\u001b[0m\u001b[0;34m,\u001b[0m \u001b[0mtuple\u001b[0m\u001b[0;34m)\u001b[0m\u001b[0;34m:\u001b[0m\u001b[0;34m\u001b[0m\u001b[0;34m\u001b[0m\u001b[0m\n",
            "\u001b[0;32m/usr/local/lib/python3.10/dist-packages/h5py/_hl/files.py\u001b[0m in \u001b[0;36mmake_fid\u001b[0;34m(name, mode, userblock_size, fapl, fcpl, swmr)\u001b[0m\n\u001b[1;32m    233\u001b[0m         \u001b[0;32mif\u001b[0m \u001b[0mswmr\u001b[0m \u001b[0;32mand\u001b[0m \u001b[0mswmr_support\u001b[0m\u001b[0;34m:\u001b[0m\u001b[0;34m\u001b[0m\u001b[0;34m\u001b[0m\u001b[0m\n\u001b[1;32m    234\u001b[0m             \u001b[0mflags\u001b[0m \u001b[0;34m|=\u001b[0m \u001b[0mh5f\u001b[0m\u001b[0;34m.\u001b[0m\u001b[0mACC_SWMR_READ\u001b[0m\u001b[0;34m\u001b[0m\u001b[0;34m\u001b[0m\u001b[0m\n\u001b[0;32m--> 235\u001b[0;31m         \u001b[0mfid\u001b[0m \u001b[0;34m=\u001b[0m \u001b[0mh5f\u001b[0m\u001b[0;34m.\u001b[0m\u001b[0mopen\u001b[0m\u001b[0;34m(\u001b[0m\u001b[0mname\u001b[0m\u001b[0;34m,\u001b[0m \u001b[0mflags\u001b[0m\u001b[0;34m,\u001b[0m \u001b[0mfapl\u001b[0m\u001b[0;34m=\u001b[0m\u001b[0mfapl\u001b[0m\u001b[0;34m)\u001b[0m\u001b[0;34m\u001b[0m\u001b[0;34m\u001b[0m\u001b[0m\n\u001b[0m\u001b[1;32m    236\u001b[0m     \u001b[0;32melif\u001b[0m \u001b[0mmode\u001b[0m \u001b[0;34m==\u001b[0m \u001b[0;34m'r+'\u001b[0m\u001b[0;34m:\u001b[0m\u001b[0;34m\u001b[0m\u001b[0;34m\u001b[0m\u001b[0m\n\u001b[1;32m    237\u001b[0m         \u001b[0mfid\u001b[0m \u001b[0;34m=\u001b[0m \u001b[0mh5f\u001b[0m\u001b[0;34m.\u001b[0m\u001b[0mopen\u001b[0m\u001b[0;34m(\u001b[0m\u001b[0mname\u001b[0m\u001b[0;34m,\u001b[0m \u001b[0mh5f\u001b[0m\u001b[0;34m.\u001b[0m\u001b[0mACC_RDWR\u001b[0m\u001b[0;34m,\u001b[0m \u001b[0mfapl\u001b[0m\u001b[0;34m=\u001b[0m\u001b[0mfapl\u001b[0m\u001b[0;34m)\u001b[0m\u001b[0;34m\u001b[0m\u001b[0;34m\u001b[0m\u001b[0m\n",
            "\u001b[0;32mh5py/_objects.pyx\u001b[0m in \u001b[0;36mh5py._objects.with_phil.wrapper\u001b[0;34m()\u001b[0m\n",
            "\u001b[0;32mh5py/_objects.pyx\u001b[0m in \u001b[0;36mh5py._objects.with_phil.wrapper\u001b[0;34m()\u001b[0m\n",
            "\u001b[0;32mh5py/h5f.pyx\u001b[0m in \u001b[0;36mh5py.h5f.open\u001b[0;34m()\u001b[0m\n",
            "\u001b[0;31mFileNotFoundError\u001b[0m: [Errno 2] Unable to synchronously open file (unable to open file: name = 'unet_brain_mri_seg.hdf5', errno = 2, error message = 'No such file or directory', flags = 0, o_flags = 0)"
          ]
        }
      ]
    },
    {
      "cell_type": "code",
      "source": [
        "test_gen = train_generator(df_test, BATCH_SIZE, dict(), target_size=(im_height,im_width))\n",
        "\n",
        "results = model.evaluate(test_gen, steps = int(len(df_test)/BATCH_SIZE))\n",
        "print('Test Loss', results[0])\n",
        "print('Test IOU', results[1])\n",
        "print('Test Dice Coeff', results[2])"
      ],
      "metadata": {
        "id": "kOp6ZIprWmkS",
        "colab": {
          "base_uri": "https://localhost:8080/"
        },
        "outputId": "0401dcc2-a7f4-413b-a832-4df632bc2451"
      },
      "execution_count": 17,
      "outputs": [
        {
          "output_type": "stream",
          "name": "stdout",
          "text": [
            "Found 197 validated image filenames.\n",
            "Found 197 validated image filenames.\n",
            "\u001b[1m6/6\u001b[0m \u001b[32m━━━━━━━━━━━━━━━━━━━━\u001b[0m\u001b[37m\u001b[0m \u001b[1m183s\u001b[0m 36s/step - binary_accuracy: 0.9974 - dice_coefficients: 0.8133 - iou: 0.6890 - loss: -0.8133\n",
            "Test Loss -0.8367978930473328\n",
            "Test IOU 0.9972115159034729\n",
            "Test Dice Coeff 0.7232141494750977\n"
          ]
        }
      ]
    },
    {
      "cell_type": "code",
      "source": [
        "for i in range(20):\n",
        "    index = np.random.randint(1, len(df_test.index))\n",
        "    img = cv2.imread(df_test['image_filename_train'].iloc[index])\n",
        "    img = cv2.resize(img, (im_height,im_width))\n",
        "    img = img/255\n",
        "    img = img[np.newaxis, : ,:, :]\n",
        "    pred_img = model.predict(img)\n",
        "\n",
        "    plt.figure(figsize=(12,12))\n",
        "    plt.subplot(1, 3, 1)\n",
        "    plt.imshow(np.squeeze(img))\n",
        "    plt.title(\"Original Image\")\n",
        "    plt.subplot(1, 3, 2)\n",
        "    plt.imshow(np.squeeze(cv2.imread(df_test['mask'].iloc[index])))\n",
        "    plt.title(\"Original Mask\")\n",
        "    plt.subplot(1, 3, 3)\n",
        "    plt.imshow(np.squeeze(pred_img) > 0.5)\n",
        "    plt.title(\"Prediction\")\n",
        "    plt.show()"
      ],
      "metadata": {
        "id": "fY6l5wlzWrsW"
      },
      "execution_count": null,
      "outputs": []
    }
  ]
}